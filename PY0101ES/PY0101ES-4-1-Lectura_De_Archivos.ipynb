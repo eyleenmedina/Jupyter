{
 "cells": [
  {
   "cell_type": "markdown",
   "metadata": {},
   "source": [
    "<div class=\"alert alert-block alert-info\" style=\"margin-top: 20px\">\n",
    "    <a href=\"https://cocl.us/PY0101EN_edx_add_top\">\n",
    "         <img src=\"https://s3-api.us-geo.objectstorage.softlayer.net/cf-courses-data/CognitiveClass/PY0101EN/Ad/TopAd.png\" width=\"750\" align=\"center\">\n",
    "    </a>\n",
    "</div>"
   ]
  },
  {
   "cell_type": "markdown",
   "metadata": {},
   "source": [
    "<a href=\"https://cognitiveclass.ai/\">\n",
    "    <img src=\"https://s3-api.us-geo.objectstorage.softlayer.net/cf-courses-data/CognitiveClass/PY0101EN/Ad/CCLog.png\" width=\"200\" align=\"center\">\n",
    "</a>"
   ]
  },
  {
   "cell_type": "markdown",
   "metadata": {},
   "source": [
    "<h1>Leer Archivos en Python</h1>"
   ]
  },
  {
   "cell_type": "markdown",
   "metadata": {},
   "source": [
    "<p><strong>¡Bienvenido!</strong> En este cuaderno aprenderás acerca de la lectura de archivos de texto en el Lenguaje de Programación Python. Al fina del laboratorio sabrás como leer archivo de texto.</p>"
   ]
  },
  {
   "cell_type": "markdown",
   "metadata": {},
   "source": [
    "<h2>Tabla de Contenido</h2>\n",
    "<div class=\"alert alert-block alert-info\" style=\"margin-top: 20px\">\n",
    "    <ul>\n",
    "        <li><a href=\"download\">Descarga de Datos</a></li>\n",
    "        <li><a href=\"read\">Lectura de Archivos de Texto</a></li>\n",
    "        <li><a href=\"better\">Una Mejor Forma de Abrir un Archivo</a></li>\n",
    "    </ul>\n",
    "    <p>\n",
    "        Tiempo Estimado: <strong>40 min</strong>\n",
    "    </p>\n",
    "</div>\n",
    "\n",
    "<hr>"
   ]
  },
  {
   "cell_type": "markdown",
   "metadata": {},
   "source": [
    "<h2 id=\"download\">Descarga de Datos</h2>"
   ]
  },
  {
   "cell_type": "code",
   "execution_count": 7,
   "metadata": {},
   "outputs": [
    {
     "name": "stdout",
     "output_type": "stream",
     "text": [
      "/Example1.txt: Permission denied\n"
     ]
    }
   ],
   "source": [
    "# Descarga de Archivo de Ejemplo\n",
    "\n",
    "!wget -O /Example1.txt https://s3-api.us-geo.objectstorage.softlayer.net/cf-courses-data/CognitiveClass/labs/PY0101EN/example1.txt"
   ]
  },
  {
   "cell_type": "markdown",
   "metadata": {},
   "source": [
    "<hr>"
   ]
  },
  {
   "cell_type": "markdown",
   "metadata": {},
   "source": [
    "<h2 id=\"read\">Lectura de Archivos de Texto</h2>"
   ]
  },
  {
   "cell_type": "markdown",
   "metadata": {},
   "source": [
    "Una forma de leer o escribir un archivo en Python es usando la función <code>open</code>. La función <code>open</code> proporciona un  <b>objeto File</b> que contiene los métodos y atributo necesarios para leer, guardar y manipular el archivo. En este cuaderno, solo se cubrirá los archivos <b>.txt</b>. El primer parámetro necesario es la ruta y el nombre del archivo. Se muestra un ejemplo a continuación:"
   ]
  },
  {
   "cell_type": "markdown",
   "metadata": {},
   "source": [
    "<img src=\"https://s3-api.us-geo.objectstorage.softlayer.net/cf-courses-data/CognitiveClass/PY0101EN/Chapter%204/Images/ReadOpen.png\" width=\"500\" />"
   ]
  },
  {
   "cell_type": "markdown",
   "metadata": {},
   "source": [
    " El argumento “mode” (modo) es opcional siendo su valor por defecto <b>r</b>. En este cuaderno solo se cubrirá dos modos: \n",
    "<ul>\n",
    "    <li><b>r</b> Modo Lectura (Read Mode) </li>\n",
    "    <li><b>w</b> Modo Escritura (Write Mode) </li>\n",
    "</ul>"
   ]
  },
  {
   "cell_type": "markdown",
   "metadata": {},
   "source": [
    "En el siguiente ejemplo, usaremos el archivo de texto <b>Example1.txt</b>. El archivo se muestra de la siguiente manera:"
   ]
  },
  {
   "cell_type": "markdown",
   "metadata": {},
   "source": [
    "<img src=\"https://s3-api.us-geo.objectstorage.softlayer.net/cf-courses-data/CognitiveClass/PY0101EN/Chapter%204/Images/ReadFile.png\" width=\"200\" />"
   ]
  },
  {
   "cell_type": "markdown",
   "metadata": {},
   "source": [
    "Leemos el archivo:"
   ]
  },
  {
   "cell_type": "code",
   "execution_count": 8,
   "metadata": {},
   "outputs": [],
   "source": [
    "# Leer Example1.txt\n",
    "\n",
    "example1 = \"Example1.txt\"\n",
    "file1 = open(example1, \"r\")"
   ]
  },
  {
   "cell_type": "markdown",
   "metadata": {},
   "source": [
    "Podemos ver los atributos del archivo:"
   ]
  },
  {
   "cell_type": "markdown",
   "metadata": {},
   "source": [
    "El nombre del archivo: "
   ]
  },
  {
   "cell_type": "code",
   "execution_count": 9,
   "metadata": {},
   "outputs": [
    {
     "data": {
      "text/plain": [
       "'Example1.txt'"
      ]
     },
     "execution_count": 9,
     "metadata": {},
     "output_type": "execute_result"
    }
   ],
   "source": [
    "# Imprimir la ruta del archivo\n",
    "\n",
    "file1.name"
   ]
  },
  {
   "cell_type": "markdown",
   "metadata": {},
   "source": [
    "El modo de operación del archivo:"
   ]
  },
  {
   "cell_type": "code",
   "execution_count": 10,
   "metadata": {},
   "outputs": [
    {
     "data": {
      "text/plain": [
       "'r'"
      ]
     },
     "execution_count": 10,
     "metadata": {},
     "output_type": "execute_result"
    }
   ],
   "source": [
    "# El modo de operación del archivo, puede ser 'r' (lectura) o 'w' (escritura)\n",
    "\n",
    "file1.mode"
   ]
  },
  {
   "cell_type": "markdown",
   "metadata": {},
   "source": [
    "Podemos leer el archivo y asignarlo como valor a una variable:"
   ]
  },
  {
   "cell_type": "code",
   "execution_count": 11,
   "metadata": {},
   "outputs": [
    {
     "data": {
      "text/plain": [
       "'Sub ListaCitasdeOutlook()\\nDim olApp As Object, olNS As Object, olCalendario As Object\\nDim Cita As Object\\nDim fila As Long\\n\\nDim FechaIni As Date, FechaFin As Date\\nFechaIni = Now         \\'el día actual\\nFechaFin = (Now + 30)  \\'hasta 30 días después\\n\\n\\'Trabajamos sobre Outlook\\nSet olApp = CreateObject(\"Outlook.Application\")\\nSet olNS = olApp.GetNamespace(\"MAPI\")\\n\\'declaramos el objeto de la carpeta de los Calendarios\\n\\'(9 equivale a la carpeta del Calendario)\\nSet olCalendario = olNS.GetDefaultFolder(9)\\n\\'Ordenamos las Citas por Fecha de Inicio\\nSet misCitas = olCalendario.Items\\nmisCitas.Sort \"[Start]\", False\\n\\n\\'cabecera en nuestra hoja de cálculo\\nRange(\"A1:L1\").Value = Array(\"Asunto\", \"Fecha-Hora Inicio\", \"Fecha-Hora fin\", \"Cuerpo\", _\\n    \"Duración(minutos)\", \"Ubicación\", \"Categoria\", \"Organizador\", _\\n    \"Asitentes invitados\", \"Asistentes opcionales\", \"Mostar como\", \"Todo el día\")\\n\\'completamos los datos desde la fila 2 de la hoja seleccionada\\nfila = 2\\n\\'recorremos todas las citas del calendario\\nFor Each Cita In misCitas\\n    If Cita.Start >= FechaIni And Cita.Start <= FechaFin Then\\n        Cells(fila, \"A\").Value = CStr(Cita.Subject)     \\'Asunto\\n        Cells(fila, \"B\").Value = Cita.Start             \\'Fecha + Hora Inico\\n        Cells(fila, \"C\").Value = Cita.End               \\'Fecha + Hora Fin\\n        Cells(fila, \"D\").Value = Cita.Body              \\'Cuerpo o texto\\n        Cells(fila, \"E\").Value = Cita.Duration          \\'Duración\\n        Cells(fila, \"F\").Value = Cita.Location          \\'Ubicación\\n        Cells(fila, \"G\").Value = Cita.Categories        \\'Categoria\\n        Cells(fila, \"H\").Value = Cita.Organizer         \\'Organizador\\n        Cells(fila, \"I\").Value = Cita.RequiredAttendees \\'Asistentes\\n        Cells(fila, \"J\").Value = Cita.OptionalAttendees \\'Asistentes\\n        Cells(fila, \"K\").Value = Cita.BusyStatus        \\'Tipo de estado\\n        \\'0-Disponible, 1-Provisional, 2-Ocupado, 3-Fuera de la oficina o 4-Trabajando en otro lugar\\n        Cells(fila, \"L\").Value = Cita.AllDayEvent       \\'marcado como evento de Todo el día\\n        \\n        \\'preparamos para siguiente fila\\n        fila = fila + 1\\n    End If\\nNext Cita\\n\\nMsgBox \"Proceso finalizado\"\\n\\'liberamos memoria\\nSet Cita = Nothing\\nSet olCalendario = Nothing\\nSet olNS = Nothing\\nSet olApp = Nothing\\nEnd Sub\\n'"
      ]
     },
     "execution_count": 11,
     "metadata": {},
     "output_type": "execute_result"
    }
   ],
   "source": [
    "# Leer el archivo\n",
    "\n",
    "FileContent = file1.read()\n",
    "FileContent"
   ]
  },
  {
   "cell_type": "markdown",
   "metadata": {},
   "source": [
    "La <b>/n</b> significa que hay una nueva línea. "
   ]
  },
  {
   "cell_type": "markdown",
   "metadata": {},
   "source": [
    "Podemos imprimir el archivo:"
   ]
  },
  {
   "cell_type": "code",
   "execution_count": 12,
   "metadata": {},
   "outputs": [
    {
     "name": "stdout",
     "output_type": "stream",
     "text": [
      "Sub ListaCitasdeOutlook()\n",
      "Dim olApp As Object, olNS As Object, olCalendario As Object\n",
      "Dim Cita As Object\n",
      "Dim fila As Long\n",
      "\n",
      "Dim FechaIni As Date, FechaFin As Date\n",
      "FechaIni = Now         'el día actual\n",
      "FechaFin = (Now + 30)  'hasta 30 días después\n",
      "\n",
      "'Trabajamos sobre Outlook\n",
      "Set olApp = CreateObject(\"Outlook.Application\")\n",
      "Set olNS = olApp.GetNamespace(\"MAPI\")\n",
      "'declaramos el objeto de la carpeta de los Calendarios\n",
      "'(9 equivale a la carpeta del Calendario)\n",
      "Set olCalendario = olNS.GetDefaultFolder(9)\n",
      "'Ordenamos las Citas por Fecha de Inicio\n",
      "Set misCitas = olCalendario.Items\n",
      "misCitas.Sort \"[Start]\", False\n",
      "\n",
      "'cabecera en nuestra hoja de cálculo\n",
      "Range(\"A1:L1\").Value = Array(\"Asunto\", \"Fecha-Hora Inicio\", \"Fecha-Hora fin\", \"Cuerpo\", _\n",
      "    \"Duración(minutos)\", \"Ubicación\", \"Categoria\", \"Organizador\", _\n",
      "    \"Asitentes invitados\", \"Asistentes opcionales\", \"Mostar como\", \"Todo el día\")\n",
      "'completamos los datos desde la fila 2 de la hoja seleccionada\n",
      "fila = 2\n",
      "'recorremos todas las citas del calendario\n",
      "For Each Cita In misCitas\n",
      "    If Cita.Start >= FechaIni And Cita.Start <= FechaFin Then\n",
      "        Cells(fila, \"A\").Value = CStr(Cita.Subject)     'Asunto\n",
      "        Cells(fila, \"B\").Value = Cita.Start             'Fecha + Hora Inico\n",
      "        Cells(fila, \"C\").Value = Cita.End               'Fecha + Hora Fin\n",
      "        Cells(fila, \"D\").Value = Cita.Body              'Cuerpo o texto\n",
      "        Cells(fila, \"E\").Value = Cita.Duration          'Duración\n",
      "        Cells(fila, \"F\").Value = Cita.Location          'Ubicación\n",
      "        Cells(fila, \"G\").Value = Cita.Categories        'Categoria\n",
      "        Cells(fila, \"H\").Value = Cita.Organizer         'Organizador\n",
      "        Cells(fila, \"I\").Value = Cita.RequiredAttendees 'Asistentes\n",
      "        Cells(fila, \"J\").Value = Cita.OptionalAttendees 'Asistentes\n",
      "        Cells(fila, \"K\").Value = Cita.BusyStatus        'Tipo de estado\n",
      "        '0-Disponible, 1-Provisional, 2-Ocupado, 3-Fuera de la oficina o 4-Trabajando en otro lugar\n",
      "        Cells(fila, \"L\").Value = Cita.AllDayEvent       'marcado como evento de Todo el día\n",
      "        \n",
      "        'preparamos para siguiente fila\n",
      "        fila = fila + 1\n",
      "    End If\n",
      "Next Cita\n",
      "\n",
      "MsgBox \"Proceso finalizado\"\n",
      "'liberamos memoria\n",
      "Set Cita = Nothing\n",
      "Set olCalendario = Nothing\n",
      "Set olNS = Nothing\n",
      "Set olApp = Nothing\n",
      "End Sub\n",
      "\n"
     ]
    }
   ],
   "source": [
    "# Imprime el archivo con '\\n' como nueva línea \n",
    "\n",
    "print(FileContent)"
   ]
  },
  {
   "cell_type": "markdown",
   "metadata": {},
   "source": [
    "El archivo es de tipo cadena:"
   ]
  },
  {
   "cell_type": "code",
   "execution_count": 13,
   "metadata": {},
   "outputs": [
    {
     "data": {
      "text/plain": [
       "str"
      ]
     },
     "execution_count": 13,
     "metadata": {},
     "output_type": "execute_result"
    }
   ],
   "source": [
    "# Tipo del contenido del archivo\n",
    "\n",
    "type(FileContent)"
   ]
  },
  {
   "cell_type": "markdown",
   "metadata": {},
   "source": [
    "Debemos cerrar el objeto tipo archivo:"
   ]
  },
  {
   "cell_type": "code",
   "execution_count": 14,
   "metadata": {
    "tags": []
   },
   "outputs": [],
   "source": [
    "# Cerrar el archivo al terminar\n",
    "\n",
    "file1.close()"
   ]
  },
  {
   "cell_type": "markdown",
   "metadata": {},
   "source": [
    "<hr>"
   ]
  },
  {
   "cell_type": "markdown",
   "metadata": {},
   "source": [
    "<h2 id=\"better\">Una Mejor Forma de Abrir un Archivo</h2>"
   ]
  },
  {
   "cell_type": "markdown",
   "metadata": {},
   "source": [
    "La declaración <code>with</code> automáticamente cierra el archivo incluso si se encuentra una excepción en la ejecución del código. El código ejecutara todo lo del bloque con sangría, después cerrara el archivo."
   ]
  },
  {
   "cell_type": "code",
   "execution_count": 15,
   "metadata": {},
   "outputs": [
    {
     "name": "stdout",
     "output_type": "stream",
     "text": [
      "Sub ListaCitasdeOutlook()\n",
      "Dim olApp As Object, olNS As Object, olCalendario As Object\n",
      "Dim Cita As Object\n",
      "Dim fila As Long\n",
      "\n",
      "Dim FechaIni As Date, FechaFin As Date\n",
      "FechaIni = Now         'el día actual\n",
      "FechaFin = (Now + 30)  'hasta 30 días después\n",
      "\n",
      "'Trabajamos sobre Outlook\n",
      "Set olApp = CreateObject(\"Outlook.Application\")\n",
      "Set olNS = olApp.GetNamespace(\"MAPI\")\n",
      "'declaramos el objeto de la carpeta de los Calendarios\n",
      "'(9 equivale a la carpeta del Calendario)\n",
      "Set olCalendario = olNS.GetDefaultFolder(9)\n",
      "'Ordenamos las Citas por Fecha de Inicio\n",
      "Set misCitas = olCalendario.Items\n",
      "misCitas.Sort \"[Start]\", False\n",
      "\n",
      "'cabecera en nuestra hoja de cálculo\n",
      "Range(\"A1:L1\").Value = Array(\"Asunto\", \"Fecha-Hora Inicio\", \"Fecha-Hora fin\", \"Cuerpo\", _\n",
      "    \"Duración(minutos)\", \"Ubicación\", \"Categoria\", \"Organizador\", _\n",
      "    \"Asitentes invitados\", \"Asistentes opcionales\", \"Mostar como\", \"Todo el día\")\n",
      "'completamos los datos desde la fila 2 de la hoja seleccionada\n",
      "fila = 2\n",
      "'recorremos todas las citas del calendario\n",
      "For Each Cita In misCitas\n",
      "    If Cita.Start >= FechaIni And Cita.Start <= FechaFin Then\n",
      "        Cells(fila, \"A\").Value = CStr(Cita.Subject)     'Asunto\n",
      "        Cells(fila, \"B\").Value = Cita.Start             'Fecha + Hora Inico\n",
      "        Cells(fila, \"C\").Value = Cita.End               'Fecha + Hora Fin\n",
      "        Cells(fila, \"D\").Value = Cita.Body              'Cuerpo o texto\n",
      "        Cells(fila, \"E\").Value = Cita.Duration          'Duración\n",
      "        Cells(fila, \"F\").Value = Cita.Location          'Ubicación\n",
      "        Cells(fila, \"G\").Value = Cita.Categories        'Categoria\n",
      "        Cells(fila, \"H\").Value = Cita.Organizer         'Organizador\n",
      "        Cells(fila, \"I\").Value = Cita.RequiredAttendees 'Asistentes\n",
      "        Cells(fila, \"J\").Value = Cita.OptionalAttendees 'Asistentes\n",
      "        Cells(fila, \"K\").Value = Cita.BusyStatus        'Tipo de estado\n",
      "        '0-Disponible, 1-Provisional, 2-Ocupado, 3-Fuera de la oficina o 4-Trabajando en otro lugar\n",
      "        Cells(fila, \"L\").Value = Cita.AllDayEvent       'marcado como evento de Todo el día\n",
      "        \n",
      "        'preparamos para siguiente fila\n",
      "        fila = fila + 1\n",
      "    End If\n",
      "Next Cita\n",
      "\n",
      "MsgBox \"Proceso finalizado\"\n",
      "'liberamos memoria\n",
      "Set Cita = Nothing\n",
      "Set olCalendario = Nothing\n",
      "Set olNS = Nothing\n",
      "Set olApp = Nothing\n",
      "End Sub\n",
      "\n"
     ]
    }
   ],
   "source": [
    "# Abrir un archivo utilizando with\n",
    "\n",
    "with open(example1, \"r\") as file1:\n",
    "    FileContent = file1.read()\n",
    "    print(FileContent)"
   ]
  },
  {
   "cell_type": "markdown",
   "metadata": {},
   "source": [
    "El objeto archive esta cerrado, puedes verificar esto ejecutando el próximo código:"
   ]
  },
  {
   "cell_type": "code",
   "execution_count": 16,
   "metadata": {},
   "outputs": [
    {
     "data": {
      "text/plain": [
       "True"
      ]
     },
     "execution_count": 16,
     "metadata": {},
     "output_type": "execute_result"
    }
   ],
   "source": [
    "# Verificar si el archivo esta cerrado\n",
    "\n",
    "file1.closed"
   ]
  },
  {
   "cell_type": "markdown",
   "metadata": {},
   "source": [
    "Podemos ver la información del archivo"
   ]
  },
  {
   "cell_type": "code",
   "execution_count": 17,
   "metadata": {},
   "outputs": [
    {
     "name": "stdout",
     "output_type": "stream",
     "text": [
      "Sub ListaCitasdeOutlook()\n",
      "Dim olApp As Object, olNS As Object, olCalendario As Object\n",
      "Dim Cita As Object\n",
      "Dim fila As Long\n",
      "\n",
      "Dim FechaIni As Date, FechaFin As Date\n",
      "FechaIni = Now         'el día actual\n",
      "FechaFin = (Now + 30)  'hasta 30 días después\n",
      "\n",
      "'Trabajamos sobre Outlook\n",
      "Set olApp = CreateObject(\"Outlook.Application\")\n",
      "Set olNS = olApp.GetNamespace(\"MAPI\")\n",
      "'declaramos el objeto de la carpeta de los Calendarios\n",
      "'(9 equivale a la carpeta del Calendario)\n",
      "Set olCalendario = olNS.GetDefaultFolder(9)\n",
      "'Ordenamos las Citas por Fecha de Inicio\n",
      "Set misCitas = olCalendario.Items\n",
      "misCitas.Sort \"[Start]\", False\n",
      "\n",
      "'cabecera en nuestra hoja de cálculo\n",
      "Range(\"A1:L1\").Value = Array(\"Asunto\", \"Fecha-Hora Inicio\", \"Fecha-Hora fin\", \"Cuerpo\", _\n",
      "    \"Duración(minutos)\", \"Ubicación\", \"Categoria\", \"Organizador\", _\n",
      "    \"Asitentes invitados\", \"Asistentes opcionales\", \"Mostar como\", \"Todo el día\")\n",
      "'completamos los datos desde la fila 2 de la hoja seleccionada\n",
      "fila = 2\n",
      "'recorremos todas las citas del calendario\n",
      "For Each Cita In misCitas\n",
      "    If Cita.Start >= FechaIni And Cita.Start <= FechaFin Then\n",
      "        Cells(fila, \"A\").Value = CStr(Cita.Subject)     'Asunto\n",
      "        Cells(fila, \"B\").Value = Cita.Start             'Fecha + Hora Inico\n",
      "        Cells(fila, \"C\").Value = Cita.End               'Fecha + Hora Fin\n",
      "        Cells(fila, \"D\").Value = Cita.Body              'Cuerpo o texto\n",
      "        Cells(fila, \"E\").Value = Cita.Duration          'Duración\n",
      "        Cells(fila, \"F\").Value = Cita.Location          'Ubicación\n",
      "        Cells(fila, \"G\").Value = Cita.Categories        'Categoria\n",
      "        Cells(fila, \"H\").Value = Cita.Organizer         'Organizador\n",
      "        Cells(fila, \"I\").Value = Cita.RequiredAttendees 'Asistentes\n",
      "        Cells(fila, \"J\").Value = Cita.OptionalAttendees 'Asistentes\n",
      "        Cells(fila, \"K\").Value = Cita.BusyStatus        'Tipo de estado\n",
      "        '0-Disponible, 1-Provisional, 2-Ocupado, 3-Fuera de la oficina o 4-Trabajando en otro lugar\n",
      "        Cells(fila, \"L\").Value = Cita.AllDayEvent       'marcado como evento de Todo el día\n",
      "        \n",
      "        'preparamos para siguiente fila\n",
      "        fila = fila + 1\n",
      "    End If\n",
      "Next Cita\n",
      "\n",
      "MsgBox \"Proceso finalizado\"\n",
      "'liberamos memoria\n",
      "Set Cita = Nothing\n",
      "Set olCalendario = Nothing\n",
      "Set olNS = Nothing\n",
      "Set olApp = Nothing\n",
      "End Sub\n",
      "\n"
     ]
    }
   ],
   "source": [
    "# Ver el contenido del archivo\n",
    "\n",
    "print(FileContent)"
   ]
  },
  {
   "cell_type": "markdown",
   "metadata": {},
   "source": [
    "La sintaxis es un poco confusa debido a que el objeto archivo esta después de la declaración <code>as</code>. Ademas no cerramos explícitamente el archivo. Por lo tanto, se resumen los pasos en una imagen:"
   ]
  },
  {
   "cell_type": "markdown",
   "metadata": {},
   "source": [
    "<img src=\"https://s3-api.us-geo.objectstorage.softlayer.net/cf-courses-data/CognitiveClass/PY0101EN/Chapter%204/Images/ReadWith.png\" width=\"500\" />"
   ]
  },
  {
   "cell_type": "markdown",
   "metadata": {},
   "source": [
    "No se tiene que leer el archivo completo, por ejemplo, podemos leer los primeros 4 caracteres poniendo 3 como parámetro en el método **.read()**:"
   ]
  },
  {
   "cell_type": "code",
   "execution_count": 18,
   "metadata": {},
   "outputs": [
    {
     "name": "stdout",
     "output_type": "stream",
     "text": [
      "Sub \n"
     ]
    }
   ],
   "source": [
    "# Lee los primeros cuatro caracteres\n",
    "\n",
    "with open(example1, \"r\") as file1:\n",
    "    print(file1.read(4))"
   ]
  },
  {
   "cell_type": "markdown",
   "metadata": {},
   "source": [
    "Una vez que el método <code>.read(4)</code> es llamado los primeros 4 caracteres son mostrados. Si llamamos al método otra vez, los próximos 4 caracteres se llamarán. La salida en el siguiente bloque de código mostrara el proceso con diferentes valores de entrada para el método <code>read()</code>:"
   ]
  },
  {
   "cell_type": "code",
   "execution_count": 19,
   "metadata": {},
   "outputs": [
    {
     "name": "stdout",
     "output_type": "stream",
     "text": [
      "Sub \n",
      "List\n",
      "aCitasd\n",
      "eOutlook()\n",
      "Dim \n"
     ]
    }
   ],
   "source": [
    "# Lee cierta cantidad de caracteres\n",
    "\n",
    "with open(example1, \"r\") as file1:\n",
    "    print(file1.read(4))\n",
    "    print(file1.read(4))\n",
    "    print(file1.read(7))\n",
    "    print(file1.read(15))"
   ]
  },
  {
   "cell_type": "markdown",
   "metadata": {},
   "source": [
    "El proceso se muestra en la imagen de abajo, cada color representa la parte leída del archivo después de llamar al método <code>read()</code>:"
   ]
  },
  {
   "cell_type": "markdown",
   "metadata": {},
   "source": [
    "<img src=\"https://s3-api.us-geo.objectstorage.softlayer.net/cf-courses-data/CognitiveClass/PY0101EN/Chapter%204/Images/ReadChar.png\" width=\"500\" />"
   ]
  },
  {
   "cell_type": "markdown",
   "metadata": {},
   "source": [
    "Aquí se muestra un ejemplo usando el mismo archivo, pero esta vez se lee 16, 5 y después 9 caracteres a la vez."
   ]
  },
  {
   "cell_type": "code",
   "execution_count": 20,
   "metadata": {},
   "outputs": [
    {
     "name": "stdout",
     "output_type": "stream",
     "text": [
      "Sub ListaCitasde\n",
      "Outlo\n",
      "ok()\n",
      "Dim \n"
     ]
    }
   ],
   "source": [
    "# Lee cierta cantidad de caracteres\n",
    "\n",
    "with open(example1, \"r\") as file1:\n",
    "    print(file1.read(16))\n",
    "    print(file1.read(5))\n",
    "    print(file1.read(9))"
   ]
  },
  {
   "cell_type": "markdown",
   "metadata": {},
   "source": [
    "También podemos leer una línea del archivo a la vez usando el método <code>readline()</code>:"
   ]
  },
  {
   "cell_type": "code",
   "execution_count": 21,
   "metadata": {},
   "outputs": [
    {
     "name": "stdout",
     "output_type": "stream",
     "text": [
      "first line: Sub ListaCitasdeOutlook()\n",
      "\n"
     ]
    }
   ],
   "source": [
    "# Lee una línea\n",
    "\n",
    "with open(example1, \"r\") as file1:\n",
    "    print(\"first line: \" + file1.readline())"
   ]
  },
  {
   "cell_type": "markdown",
   "metadata": {},
   "source": [
    "Podemos usar un bucle para iterar a través de cada línea:"
   ]
  },
  {
   "cell_type": "code",
   "execution_count": 22,
   "metadata": {},
   "outputs": [
    {
     "name": "stdout",
     "output_type": "stream",
     "text": [
      "Iteration 0 :  Sub ListaCitasdeOutlook()\n",
      "\n",
      "Iteration 1 :  Dim olApp As Object, olNS As Object, olCalendario As Object\n",
      "\n",
      "Iteration 2 :  Dim Cita As Object\n",
      "\n",
      "Iteration 3 :  Dim fila As Long\n",
      "\n",
      "Iteration 4 :  \n",
      "\n",
      "Iteration 5 :  Dim FechaIni As Date, FechaFin As Date\n",
      "\n",
      "Iteration 6 :  FechaIni = Now         'el día actual\n",
      "\n",
      "Iteration 7 :  FechaFin = (Now + 30)  'hasta 30 días después\n",
      "\n",
      "Iteration 8 :  \n",
      "\n",
      "Iteration 9 :  'Trabajamos sobre Outlook\n",
      "\n",
      "Iteration 10 :  Set olApp = CreateObject(\"Outlook.Application\")\n",
      "\n",
      "Iteration 11 :  Set olNS = olApp.GetNamespace(\"MAPI\")\n",
      "\n",
      "Iteration 12 :  'declaramos el objeto de la carpeta de los Calendarios\n",
      "\n",
      "Iteration 13 :  '(9 equivale a la carpeta del Calendario)\n",
      "\n",
      "Iteration 14 :  Set olCalendario = olNS.GetDefaultFolder(9)\n",
      "\n",
      "Iteration 15 :  'Ordenamos las Citas por Fecha de Inicio\n",
      "\n",
      "Iteration 16 :  Set misCitas = olCalendario.Items\n",
      "\n",
      "Iteration 17 :  misCitas.Sort \"[Start]\", False\n",
      "\n",
      "Iteration 18 :  \n",
      "\n",
      "Iteration 19 :  'cabecera en nuestra hoja de cálculo\n",
      "\n",
      "Iteration 20 :  Range(\"A1:L1\").Value = Array(\"Asunto\", \"Fecha-Hora Inicio\", \"Fecha-Hora fin\", \"Cuerpo\", _\n",
      "\n",
      "Iteration 21 :      \"Duración(minutos)\", \"Ubicación\", \"Categoria\", \"Organizador\", _\n",
      "\n",
      "Iteration 22 :      \"Asitentes invitados\", \"Asistentes opcionales\", \"Mostar como\", \"Todo el día\")\n",
      "\n",
      "Iteration 23 :  'completamos los datos desde la fila 2 de la hoja seleccionada\n",
      "\n",
      "Iteration 24 :  fila = 2\n",
      "\n",
      "Iteration 25 :  'recorremos todas las citas del calendario\n",
      "\n",
      "Iteration 26 :  For Each Cita In misCitas\n",
      "\n",
      "Iteration 27 :      If Cita.Start >= FechaIni And Cita.Start <= FechaFin Then\n",
      "\n",
      "Iteration 28 :          Cells(fila, \"A\").Value = CStr(Cita.Subject)     'Asunto\n",
      "\n",
      "Iteration 29 :          Cells(fila, \"B\").Value = Cita.Start             'Fecha + Hora Inico\n",
      "\n",
      "Iteration 30 :          Cells(fila, \"C\").Value = Cita.End               'Fecha + Hora Fin\n",
      "\n",
      "Iteration 31 :          Cells(fila, \"D\").Value = Cita.Body              'Cuerpo o texto\n",
      "\n",
      "Iteration 32 :          Cells(fila, \"E\").Value = Cita.Duration          'Duración\n",
      "\n",
      "Iteration 33 :          Cells(fila, \"F\").Value = Cita.Location          'Ubicación\n",
      "\n",
      "Iteration 34 :          Cells(fila, \"G\").Value = Cita.Categories        'Categoria\n",
      "\n",
      "Iteration 35 :          Cells(fila, \"H\").Value = Cita.Organizer         'Organizador\n",
      "\n",
      "Iteration 36 :          Cells(fila, \"I\").Value = Cita.RequiredAttendees 'Asistentes\n",
      "\n",
      "Iteration 37 :          Cells(fila, \"J\").Value = Cita.OptionalAttendees 'Asistentes\n",
      "\n",
      "Iteration 38 :          Cells(fila, \"K\").Value = Cita.BusyStatus        'Tipo de estado\n",
      "\n",
      "Iteration 39 :          '0-Disponible, 1-Provisional, 2-Ocupado, 3-Fuera de la oficina o 4-Trabajando en otro lugar\n",
      "\n",
      "Iteration 40 :          Cells(fila, \"L\").Value = Cita.AllDayEvent       'marcado como evento de Todo el día\n",
      "\n",
      "Iteration 41 :          \n",
      "\n",
      "Iteration 42 :          'preparamos para siguiente fila\n",
      "\n",
      "Iteration 43 :          fila = fila + 1\n",
      "\n",
      "Iteration 44 :      End If\n",
      "\n",
      "Iteration 45 :  Next Cita\n",
      "\n",
      "Iteration 46 :  \n",
      "\n",
      "Iteration 47 :  MsgBox \"Proceso finalizado\"\n",
      "\n",
      "Iteration 48 :  'liberamos memoria\n",
      "\n",
      "Iteration 49 :  Set Cita = Nothing\n",
      "\n",
      "Iteration 50 :  Set olCalendario = Nothing\n",
      "\n",
      "Iteration 51 :  Set olNS = Nothing\n",
      "\n",
      "Iteration 52 :  Set olApp = Nothing\n",
      "\n",
      "Iteration 53 :  End Sub\n",
      "\n"
     ]
    }
   ],
   "source": [
    "# Iterar a través de una línea:\n",
    "\n",
    "with open(example1,\"r\") as file1:\n",
    "        i = 0;\n",
    "        for line in file1:\n",
    "            print(\"Iteration\", str(i), \": \", line)\n",
    "            i = i + 1;"
   ]
  },
  {
   "cell_type": "markdown",
   "metadata": {},
   "source": [
    "Podemos usar el método <code>readlines()</code> para guardar el texto del archivo en una linea:"
   ]
  },
  {
   "cell_type": "code",
   "execution_count": 24,
   "metadata": {
    "tags": []
   },
   "outputs": [],
   "source": [
    "# Leer todas las líneas y guardarlas como una lista\n",
    "\n",
    "with open(example1, \"r\") as file1:\n",
    "    FileasList = file1.readlines()"
   ]
  },
  {
   "cell_type": "markdown",
   "metadata": {},
   "source": [
    "Cada elemento de la lista corresponde a una línea de texto:"
   ]
  },
  {
   "cell_type": "code",
   "execution_count": 25,
   "metadata": {},
   "outputs": [
    {
     "data": {
      "text/plain": [
       "'Sub ListaCitasdeOutlook()\\n'"
      ]
     },
     "execution_count": 25,
     "metadata": {},
     "output_type": "execute_result"
    }
   ],
   "source": [
    "# Imprimir la primea línea\n",
    "\n",
    "FileasList[0]"
   ]
  },
  {
   "cell_type": "code",
   "execution_count": 26,
   "metadata": {},
   "outputs": [
    {
     "data": {
      "text/plain": [
       "'Dim olApp As Object, olNS As Object, olCalendario As Object\\n'"
      ]
     },
     "execution_count": 26,
     "metadata": {},
     "output_type": "execute_result"
    }
   ],
   "source": [
    "# Imprimir la segunda línea\n",
    "\n",
    "FileasList[1]"
   ]
  },
  {
   "cell_type": "code",
   "execution_count": 27,
   "metadata": {},
   "outputs": [
    {
     "data": {
      "text/plain": [
       "'Dim Cita As Object\\n'"
      ]
     },
     "execution_count": 27,
     "metadata": {},
     "output_type": "execute_result"
    }
   ],
   "source": [
    "# Imprimir la tercera línea\n",
    "\n",
    "FileasList[2]"
   ]
  },
  {
   "cell_type": "markdown",
   "metadata": {},
   "source": [
    "<hr>\n",
    "<h2>¡El último ejercicio!</h2>\n",
    "<p>Felicidades, has completado tu primera lección y practica de laboratorio en Python. Sin embargo, hay algo mas que debes saber. La comunidad en Ciencia de Datos te alienta a compartir tu trabajo. La mejor forma de hacerlo es a través de GitHub. Al compartir tus cuadernos en GitHub, además de construir una reputación entre la comunidad de los científicos de datos, también te ayudará en el proceso de encontrar un trabajo. Incluso si este fuera tu primer material de trabajo, nunca es tarde para fomentar buenos hábitos. Por favor lee y analiza <a href=\"https://cognitiveclass.ai/blog/data-scientists-stand-out-by-sharing-your-notebooks/\" target=\"_blank\">este artículo</a> para aprender a compartir tu trabajo.\n",
    "<hr>"
   ]
  },
  {
   "cell_type": "markdown",
   "metadata": {},
   "source": [
    "<div class=\"alert alert-block alert-info\" style=\"margin-top: 20px\">\n",
    "<h2>¡Obtén gratis IBM Watson Studio!</h2>\n",
    "    <p><a href=\"https://cocl.us/PY0101EN_edx_add_bbottom\"><img src=\"https://s3-api.us-geo.objectstorage.softlayer.net/cf-courses-data/CognitiveClass/PY0101EN/Ad/BottomAd.png\" width=\"750\" align=\"center\"></a></p>\n",
    "</div>"
   ]
  },
  {
   "cell_type": "markdown",
   "metadata": {},
   "source": [
    "<h3>Acerca de los Autores:</h3>  \n",
    "<p><a href=\"https://www.linkedin.com/in/joseph-s-50398b136/\" target=\"_blank\">Joseph Santarcangelo</a> es un Científico de Datos en IBM, además posee un doctorado en Ingeniería Eléctrica. Su trabajo de investigación se centra en el uso de Aprendizaje Automático (Machine Learning), Procesamiento de Señales y Visión Artificial para determinar el impacto de los videos en el proceso cognitivo. Joseph trabaja en IBM desde la terminación de su doctorado.</p>"
   ]
  },
  {
   "cell_type": "markdown",
   "metadata": {},
   "source": [
    "Otros colaboradores: <a href=\"www.linkedin.com/in/jiahui-mavis-zhou-a4537814a\">Mavis Zhou</a>"
   ]
  },
  {
   "cell_type": "markdown",
   "metadata": {},
   "source": [
    "<hr>"
   ]
  },
  {
   "cell_type": "markdown",
   "metadata": {},
   "source": [
    "<p>Copyright &copy; 2018 IBM Developer Skills Network. This notebook and its source code are released under the terms of the <a href=\"https://cognitiveclass.ai/mit-license/\">MIT License</a>.</p>"
   ]
  }
 ],
 "metadata": {
  "kernelspec": {
   "display_name": "Python",
   "language": "python",
   "name": "conda-env-python-py"
  },
  "language_info": {
   "codemirror_mode": {
    "name": "ipython",
    "version": 3
   },
   "file_extension": ".py",
   "mimetype": "text/x-python",
   "name": "python",
   "nbconvert_exporter": "python",
   "pygments_lexer": "ipython3",
   "version": "3.6.13"
  }
 },
 "nbformat": 4,
 "nbformat_minor": 4
}
